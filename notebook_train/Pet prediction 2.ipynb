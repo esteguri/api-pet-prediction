{
 "cells": [
  {
   "cell_type": "markdown",
   "metadata": {},
   "source": [
    "# Pet Prediction"
   ]
  },
  {
   "cell_type": "markdown",
   "metadata": {},
   "source": [
    "## Primer modelo implementado"
   ]
  },
  {
   "cell_type": "code",
   "execution_count": 1,
   "metadata": {},
   "outputs": [],
   "source": [
    "import os\n",
    "from tensorflow.python.keras.preprocessing.image import ImageDataGenerator\n",
    "from tensorflow.python.keras.models import Sequential\n",
    "from tensorflow.python.keras.layers import Dropout, Flatten, Dense\n",
    "from tensorflow.python.keras.layers import Convolution2D, MaxPooling2D"
   ]
  },
  {
   "cell_type": "markdown",
   "metadata": {},
   "source": [
    "#### Ruta del dataset"
   ]
  },
  {
   "cell_type": "code",
   "execution_count": 2,
   "metadata": {},
   "outputs": [],
   "source": [
    "# Ruta del dataset\n",
    "data_train = './dataset_2/train'\n",
    "data_test = './dataset_2/test'"
   ]
  },
  {
   "cell_type": "markdown",
   "metadata": {},
   "source": [
    "#### Parametros"
   ]
  },
  {
   "cell_type": "code",
   "execution_count": 20,
   "metadata": {},
   "outputs": [],
   "source": [
    "# ------Parametros----------\n",
    "number_train_images = 2678\n",
    "number_test_images = 1339\n",
    "epoch = 50  # Epocas que se van a generar\n",
    "batch_size = 36  # Numero de imagenes a procesar en cada paso\n",
    "steps = number_train_images//batch_size  # Pasos por epoca\n",
    "validation_steps = number_test_images//batch_size  # Pasos para data de test por epoca\n",
    "length, heigth = 150, 150  # Dimensiones de las imagenes\n",
    "classNumber = 3  # Numero de clases"
   ]
  },
  {
   "cell_type": "markdown",
   "metadata": {},
   "source": [
    "#### Preparación y normalización de imagenes"
   ]
  },
  {
   "cell_type": "code",
   "execution_count": 21,
   "metadata": {},
   "outputs": [
    {
     "name": "stdout",
     "output_type": "stream",
     "text": [
      "Found 5649 images belonging to 3 classes.\n",
      "157\n",
      "Found 1370 images belonging to 3 classes.\n",
      "39\n"
     ]
    }
   ],
   "source": [
    "#  ------ Preparación y normalización de imagenes --------\n",
    "\n",
    "train_datagen = ImageDataGenerator(\n",
    "    rescale=1. / 255,  # Reescala los pixeles para una mejor precisión\n",
    "    shear_range=0.3,  # Procesa e inclina algunas imagenes para potenciar el modelo\n",
    "    zoom_range=0.3,  # Procesa y hace zoom inclina a algunas imagenes para potenciar el modelo\n",
    "    horizontal_flip=True  # Invierte algunas imagenes\n",
    ")\n",
    "\n",
    "test_datagen = ImageDataGenerator(\n",
    "    rescale=1. / 255,  # Para test solo se reescala\n",
    ")\n",
    "\n",
    "imgs_train = train_datagen.flow_from_directory(\n",
    "    data_train,\n",
    "    target_size=(heigth, length),\n",
    "    batch_size=batch_size,\n",
    "    class_mode='categorical'\n",
    ")\n",
    "\n",
    "print(len(imgs_train))\n",
    "\n",
    "imgs_test = test_datagen.flow_from_directory(\n",
    "    data_test,\n",
    "    target_size=(heigth, length),\n",
    "    batch_size=batch_size,\n",
    "    class_mode='categorical'\n",
    ")\n",
    "print(len(imgs_test))"
   ]
  },
  {
   "cell_type": "markdown",
   "metadata": {},
   "source": [
    "#### Creación del modelo"
   ]
  },
  {
   "cell_type": "code",
   "execution_count": 22,
   "metadata": {},
   "outputs": [],
   "source": [
    "model = Sequential([\n",
    "    Convolution2D(32, (3,3), activation='relu', input_shape=(150, 150, 3)),\n",
    "    MaxPooling2D(2, 2),\n",
    "    Convolution2D(64, (3,3), activation='relu'),\n",
    "    MaxPooling2D(2,2),\n",
    "    Convolution2D(128, (3,3), activation='relu'),\n",
    "    MaxPooling2D(2,2),\n",
    "    Convolution2D(128, (3,3), activation='relu'),\n",
    "    MaxPooling2D(2,2),\n",
    "    Flatten(),\n",
    "    Dense(512, activation='relu'),\n",
    "    Dense(classNumber, activation='softmax')\n",
    "])\n",
    "\n",
    "model.compile(\n",
    "    loss='categorical_crossentropy',\n",
    "    metrics=['accuracy'],\n",
    ")"
   ]
  },
  {
   "cell_type": "markdown",
   "metadata": {},
   "source": [
    "#### Entrenamiento y exportar modelo"
   ]
  },
  {
   "cell_type": "code",
   "execution_count": 23,
   "metadata": {},
   "outputs": [
    {
     "name": "stdout",
     "output_type": "stream",
     "text": [
      "Epoch 1/50\n",
      "74/74 [==============================] - 72s 955ms/step - loss: 1.6023 - accuracy: 0.4426 - val_loss: 0.9953 - val_accuracy: 0.4339\n",
      "Epoch 2/50\n",
      "74/74 [==============================] - 69s 937ms/step - loss: 1.0046 - accuracy: 0.4464 - val_loss: 0.9293 - val_accuracy: 0.4317\n",
      "Epoch 3/50\n",
      "74/74 [==============================] - 70s 939ms/step - loss: 0.9757 - accuracy: 0.4825 - val_loss: 0.9830 - val_accuracy: 0.4520\n",
      "Epoch 4/50\n",
      "74/74 [==============================] - 70s 950ms/step - loss: 0.9617 - accuracy: 0.5223 - val_loss: 0.9561 - val_accuracy: 0.5511\n",
      "Epoch 5/50\n",
      "74/74 [==============================] - 70s 940ms/step - loss: 0.9294 - accuracy: 0.5441 - val_loss: 0.9062 - val_accuracy: 0.5608\n",
      "Epoch 6/50\n",
      "74/74 [==============================] - 70s 942ms/step - loss: 0.8834 - accuracy: 0.6016 - val_loss: 0.8124 - val_accuracy: 0.6381\n",
      "Epoch 7/50\n",
      "74/74 [==============================] - 69s 933ms/step - loss: 0.8891 - accuracy: 0.5950 - val_loss: 0.7814 - val_accuracy: 0.6742\n",
      "Epoch 8/50\n",
      "74/74 [==============================] - 69s 930ms/step - loss: 0.8618 - accuracy: 0.6163 - val_loss: 0.7755 - val_accuracy: 0.6494\n",
      "Epoch 9/50\n",
      "74/74 [==============================] - 70s 942ms/step - loss: 0.8497 - accuracy: 0.6368 - val_loss: 0.7565 - val_accuracy: 0.6712\n",
      "Epoch 10/50\n",
      "74/74 [==============================] - 70s 942ms/step - loss: 0.8218 - accuracy: 0.6484 - val_loss: 0.7395 - val_accuracy: 0.6929\n",
      "Epoch 11/50\n",
      "74/74 [==============================] - 69s 929ms/step - loss: 0.7733 - accuracy: 0.6608 - val_loss: 0.7240 - val_accuracy: 0.6952\n",
      "Epoch 12/50\n",
      "74/74 [==============================] - 70s 941ms/step - loss: 0.7907 - accuracy: 0.6443 - val_loss: 0.7109 - val_accuracy: 0.7042\n",
      "Epoch 13/50\n",
      "74/74 [==============================] - 69s 937ms/step - loss: 0.7364 - accuracy: 0.6774 - val_loss: 0.7191 - val_accuracy: 0.7065\n",
      "Epoch 14/50\n",
      "74/74 [==============================] - 70s 940ms/step - loss: 0.7550 - accuracy: 0.6772 - val_loss: 0.6886 - val_accuracy: 0.7230\n",
      "Epoch 15/50\n",
      "74/74 [==============================] - 70s 939ms/step - loss: 0.7065 - accuracy: 0.7071 - val_loss: 0.6478 - val_accuracy: 0.7327\n",
      "Epoch 16/50\n",
      "74/74 [==============================] - 70s 944ms/step - loss: 0.6834 - accuracy: 0.7300 - val_loss: 0.6457 - val_accuracy: 0.7282\n",
      "Epoch 17/50\n",
      "74/74 [==============================] - 69s 937ms/step - loss: 0.7114 - accuracy: 0.6985 - val_loss: 0.6609 - val_accuracy: 0.7275\n",
      "Epoch 18/50\n",
      "74/74 [==============================] - 70s 942ms/step - loss: 0.6503 - accuracy: 0.7237 - val_loss: 0.6611 - val_accuracy: 0.7192\n",
      "Epoch 19/50\n",
      "74/74 [==============================] - 69s 937ms/step - loss: 0.6537 - accuracy: 0.7354 - val_loss: 0.6509 - val_accuracy: 0.7425\n",
      "Epoch 20/50\n",
      "74/74 [==============================] - 69s 934ms/step - loss: 0.6591 - accuracy: 0.7226 - val_loss: 0.6172 - val_accuracy: 0.7350\n",
      "Epoch 21/50\n",
      "74/74 [==============================] - 70s 943ms/step - loss: 0.6319 - accuracy: 0.7411 - val_loss: 0.5868 - val_accuracy: 0.7568\n",
      "Epoch 22/50\n",
      "74/74 [==============================] - 79s 1s/step - loss: 0.6291 - accuracy: 0.7400 - val_loss: 0.6253 - val_accuracy: 0.7635\n",
      "Epoch 23/50\n",
      "74/74 [==============================] - 73s 952ms/step - loss: 0.6269 - accuracy: 0.7445 - val_loss: 0.6606 - val_accuracy: 0.7342\n",
      "Epoch 24/50\n",
      "74/74 [==============================] - 70s 947ms/step - loss: 0.6172 - accuracy: 0.7351 - val_loss: 0.5279 - val_accuracy: 0.7980\n",
      "Epoch 25/50\n",
      "74/74 [==============================] - 70s 942ms/step - loss: 0.5599 - accuracy: 0.7625 - val_loss: 0.6071 - val_accuracy: 0.7523\n",
      "Epoch 26/50\n",
      "74/74 [==============================] - 69s 930ms/step - loss: 0.5959 - accuracy: 0.7719 - val_loss: 0.6738 - val_accuracy: 0.6914\n",
      "Epoch 27/50\n",
      "74/74 [==============================] - 69s 934ms/step - loss: 0.5731 - accuracy: 0.7804 - val_loss: 0.5060 - val_accuracy: 0.8078\n",
      "Epoch 28/50\n",
      "74/74 [==============================] - 69s 930ms/step - loss: 0.5456 - accuracy: 0.7785 - val_loss: 0.5499 - val_accuracy: 0.8003\n",
      "Epoch 29/50\n",
      "74/74 [==============================] - 69s 928ms/step - loss: 0.5451 - accuracy: 0.7739 - val_loss: 0.5119 - val_accuracy: 0.8011\n",
      "Epoch 30/50\n",
      "74/74 [==============================] - 70s 937ms/step - loss: 0.4992 - accuracy: 0.8008 - val_loss: 0.5279 - val_accuracy: 0.7928\n",
      "Epoch 31/50\n",
      "74/74 [==============================] - 69s 935ms/step - loss: 0.5323 - accuracy: 0.7841 - val_loss: 0.4852 - val_accuracy: 0.8273\n",
      "Epoch 32/50\n",
      "74/74 [==============================] - 69s 938ms/step - loss: 0.5059 - accuracy: 0.7994 - val_loss: 0.5132 - val_accuracy: 0.8018\n",
      "Epoch 33/50\n",
      "74/74 [==============================] - 69s 938ms/step - loss: 0.4832 - accuracy: 0.8064 - val_loss: 0.5365 - val_accuracy: 0.7928\n",
      "Epoch 34/50\n",
      "74/74 [==============================] - 69s 932ms/step - loss: 0.4781 - accuracy: 0.8112 - val_loss: 0.6493 - val_accuracy: 0.7920\n",
      "Epoch 35/50\n",
      "74/74 [==============================] - 70s 941ms/step - loss: 0.4585 - accuracy: 0.8218 - val_loss: 0.6017 - val_accuracy: 0.8101\n",
      "Epoch 36/50\n",
      "74/74 [==============================] - 70s 937ms/step - loss: 0.4857 - accuracy: 0.8091 - val_loss: 0.4886 - val_accuracy: 0.8281\n",
      "Epoch 37/50\n",
      "74/74 [==============================] - 69s 933ms/step - loss: 0.4712 - accuracy: 0.8079 - val_loss: 0.5941 - val_accuracy: 0.7710\n",
      "Epoch 38/50\n",
      "74/74 [==============================] - 70s 938ms/step - loss: 0.4494 - accuracy: 0.8333 - val_loss: 0.4572 - val_accuracy: 0.8288\n",
      "Epoch 39/50\n",
      "74/74 [==============================] - 69s 937ms/step - loss: 0.4570 - accuracy: 0.8163 - val_loss: 0.4711 - val_accuracy: 0.8348\n",
      "Epoch 40/50\n",
      "74/74 [==============================] - 69s 932ms/step - loss: 0.4507 - accuracy: 0.8137 - val_loss: 0.4711 - val_accuracy: 0.8326\n",
      "Epoch 41/50\n",
      "74/74 [==============================] - 69s 929ms/step - loss: 0.4194 - accuracy: 0.8425 - val_loss: 0.4670 - val_accuracy: 0.8296\n",
      "Epoch 42/50\n",
      "74/74 [==============================] - 70s 949ms/step - loss: 0.4028 - accuracy: 0.8473 - val_loss: 0.5462 - val_accuracy: 0.8356\n",
      "Epoch 43/50\n",
      "74/74 [==============================] - 69s 937ms/step - loss: 0.3948 - accuracy: 0.8398 - val_loss: 0.5374 - val_accuracy: 0.8176\n",
      "Epoch 44/50\n",
      "74/74 [==============================] - 69s 930ms/step - loss: 0.4397 - accuracy: 0.8305 - val_loss: 0.4390 - val_accuracy: 0.8446\n",
      "Epoch 45/50\n",
      "74/74 [==============================] - 70s 941ms/step - loss: 0.3835 - accuracy: 0.8445 - val_loss: 0.5483 - val_accuracy: 0.8401\n",
      "Epoch 46/50\n",
      "74/74 [==============================] - 69s 932ms/step - loss: 0.3871 - accuracy: 0.8433 - val_loss: 0.4695 - val_accuracy: 0.8281\n",
      "Epoch 47/50\n",
      "74/74 [==============================] - 70s 943ms/step - loss: 0.3669 - accuracy: 0.8628 - val_loss: 0.4964 - val_accuracy: 0.8243\n",
      "Epoch 48/50\n",
      "74/74 [==============================] - 69s 935ms/step - loss: 0.3812 - accuracy: 0.8517 - val_loss: 0.8138 - val_accuracy: 0.7658\n",
      "Epoch 49/50\n",
      "74/74 [==============================] - 69s 935ms/step - loss: 0.3644 - accuracy: 0.8674 - val_loss: 0.5667 - val_accuracy: 0.7973\n",
      "Epoch 50/50\n",
      "74/74 [==============================] - 70s 943ms/step - loss: 0.3709 - accuracy: 0.8520 - val_loss: 0.5485 - val_accuracy: 0.8063\n"
     ]
    }
   ],
   "source": [
    "history = model.fit(\n",
    "    imgs_train,\n",
    "    steps_per_epoch=steps,\n",
    "    epochs=epoch,\n",
    "    validation_data=imgs_test,\n",
    "    validation_steps=validation_steps\n",
    ")\n",
    "\n",
    "dir = './model_2/'\n",
    "if not os.path.exists(dir):\n",
    "    os.mkdir(dir)\n",
    "model.save('./model_2/model.h5')\n",
    "model.save_weights('./model_2/weights.h5')"
   ]
  },
  {
   "cell_type": "markdown",
   "metadata": {},
   "source": [
    "#### Estadistica del modelo"
   ]
  },
  {
   "cell_type": "code",
   "execution_count": 24,
   "metadata": {},
   "outputs": [
    {
     "data": {
      "image/png": "[encoded data removed]",
      "text/plain": [
       "<Figure size 432x288 with 1 Axes>"
      ]
     },
     "metadata": {
      "needs_background": "light"
     },
     "output_type": "display_data"
    },
    {
     "data": {
      "image/png": "[encoded data removed]",
      "text/plain": [
       "<Figure size 432x288 with 1 Axes>"
      ]
     },
     "metadata": {
      "needs_background": "light"
     },
     "output_type": "display_data"
    }
   ],
   "source": [
    "import matplotlib.pyplot as plt\n",
    "acc = history.history['accuracy']\n",
    "val_acc = history.history['val_accuracy']\n",
    "loss = history.history['loss']\n",
    "val_loss = history.history['val_loss']\n",
    "\n",
    "epochs = range(len(acc))\n",
    "\n",
    "plt.plot(epochs, acc, 'bo', label='Training accuracy')\n",
    "plt.plot(epochs, val_acc, 'b', label='Validation accuracy')\n",
    "plt.title('Training and validation accuracy')\n",
    "\n",
    "plt.figure()\n",
    "\n",
    "plt.plot(epochs, loss, 'bo', label='Training Loss')\n",
    "plt.plot(epochs, val_loss, 'b', label='Validation Loss')\n",
    "plt.title('Training and validation loss')\n",
    "plt.legend()\n",
    "\n",
    "plt.show()"
   ]
  },
  {
   "cell_type": "markdown",
   "metadata": {},
   "source": [
    "#### Train vs Test Accuracy"
   ]
  },
  {
   "cell_type": "code",
   "execution_count": 25,
   "metadata": {},
   "outputs": [
    {
     "data": {
      "image/png": "[encoded data removed]",
      "text/plain": [
       "<Figure size 432x288 with 1 Axes>"
      ]
     },
     "metadata": {
      "needs_background": "light"
     },
     "output_type": "display_data"
    },
    {
     "data": {
      "text/plain": [
       "<Figure size 432x288 with 0 Axes>"
      ]
     },
     "metadata": {},
     "output_type": "display_data"
    }
   ],
   "source": [
    "import matplotlib.pyplot as plt\n",
    "acc = history.history['accuracy']\n",
    "val_acc = history.history['val_accuracy']\n",
    "loss = history.history['loss']\n",
    "val_loss = history.history['val_loss']\n",
    "\n",
    "epochs = range(len(acc))\n",
    "\n",
    "plt.plot(epochs, acc, 'r', label='Training accuracy')\n",
    "plt.plot(epochs, val_acc, 'b', label='Validation accuracy')\n",
    "plt.title('Training and validation accuracy')\n",
    "plt.legend(loc=0)\n",
    "plt.figure()\n",
    "\n",
    "\n",
    "plt.show()"
   ]
  },
  {
   "cell_type": "code",
   "execution_count": null,
   "metadata": {},
   "outputs": [],
   "source": []
  }
 ],
 "metadata": {
  "kernelspec": {
   "display_name": "Python 3",
   "language": "python",
   "name": "python3"
  },
  "language_info": {
   "codemirror_mode": {
    "name": "ipython",
    "version": 3
   },
   "file_extension": ".py",
   "mimetype": "text/x-python",
   "name": "python",
   "nbconvert_exporter": "python",
   "pygments_lexer": "ipython3",
   "version": "3.8.5"
  }
 },
 "nbformat": 4,
 "nbformat_minor": 4
}
